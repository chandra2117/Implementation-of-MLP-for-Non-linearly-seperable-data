{
 "cells": [
  {
   "cell_type": "markdown",
   "id": "3a2cd642-d4df-4e3e-a614-347156171999",
   "metadata": {},
   "source": [
    "# Implementation of MLP for Non-linearly seperable data\n",
    "\n",
    "**Name :** CHANDRAPRIYADHARSHINI C\n",
    "\n",
    "**Reg.No :** 212223240019"
   ]
  },
  {
   "cell_type": "code",
   "execution_count": 3,
   "id": "0131dcb9-ccc5-4468-869a-45b127023fe8",
   "metadata": {},
   "outputs": [],
   "source": [
    "#import libraries\n",
    "import numpy as np\n",
    "import pandas as pd\n",
    "import io\n",
    "import matplotlib.pyplot as plt"
   ]
  },
  {
   "cell_type": "code",
   "execution_count": 4,
   "id": "1c436649-b822-4494-8649-37bafa648963",
   "metadata": {},
   "outputs": [],
   "source": [
    "x=np.array([[0,0,1,1],[0,1,0,1]])\n",
    "y=np.array([[0,1,1,0]])"
   ]
  },
  {
   "cell_type": "code",
   "execution_count": 5,
   "id": "8cf61c54-102a-4092-a5e3-4fa8ee250bec",
   "metadata": {},
   "outputs": [],
   "source": [
    "n_x=2\n",
    "n_y=1\n",
    "n_h=2\n",
    "m=x.shape[1]\n",
    "lr=0.1\n",
    "np.random.seed(2)"
   ]
  },
  {
   "cell_type": "code",
   "execution_count": 6,
   "id": "154a5bcb-6c06-4720-9e92-13a91a6c3b8c",
   "metadata": {},
   "outputs": [],
   "source": [
    "w1 = np.random.rand(n_h,n_x)   # Weight matrix for hidden layer\n",
    "w2 = np.random.rand(n_y,n_h)   # Weight matrix for output layer"
   ]
  },
  {
   "cell_type": "code",
   "execution_count": 7,
   "id": "79348974-34a2-412d-a3a8-33978c6707f3",
   "metadata": {},
   "outputs": [],
   "source": [
    "losses = []\n",
    "def sigmoid(z):\n",
    "    z= 1/(1+np.exp(-z))\n",
    "    return z\n",
    "def forward_prop(w1,w2,x):\n",
    "    z1 = np.dot(w1,x)\n",
    "    a1 = sigmoid(z1)\n",
    "    z2 = np.dot(w2,a1)\n",
    "    a2 = sigmoid(z2)\n",
    "    return z1,a1,z2,a2\n",
    "def back_prop(m,w1,w2,z1,a1,z2,a2,y):\n",
    "    dz2 = a2-y\n",
    "    dw2 = np.dot(dz2,a1.T)/m\n",
    "    dz1 = np.dot(w2.T,dz2) * a1*(1-a1)\n",
    "    dw1 = np.dot(dz1,x.T)/m\n",
    "    dw1 = np.reshape(dw1,w1.shape)\n",
    "    dw2 = np.reshape(dw2,w2.shape)\n",
    "    return dz2,dw2,dz1,dw1"
   ]
  },
  {
   "cell_type": "code",
   "execution_count": 8,
   "id": "37d9eeff-1ba3-4c7e-866b-f01635abab64",
   "metadata": {},
   "outputs": [],
   "source": [
    "iterations = 10000\n",
    "for i in range(iterations):\n",
    "    z1,a1,z2,a2 = forward_prop(w1,w2,x)\n",
    "    loss = -(1/m)*np.sum(y*np.log(a2)+(1-y)*np.log(1-a2))\n",
    "    losses.append(loss)\n",
    "    da2,dw2,dz1,dw1 = back_prop(m,w1,w2,z1,a1,z2,a2,y)\n",
    "    w2 = w2-lr*dw2\n",
    "    w1 = w1-lr*dw1"
   ]
  },
  {
   "cell_type": "code",
   "execution_count": 9,
   "id": "b0989cb2-7ea4-492c-a493-3c906c851552",
   "metadata": {},
   "outputs": [
    {
     "data": {
      "text/plain": [
       "Text(0, 0.5, 'Loss value')"
      ]
     },
     "execution_count": 9,
     "metadata": {},
     "output_type": "execute_result"
    },
    {
     "data": {
      "image/png": "[encoded data removed]",
      "text/plain": [
       "<Figure size 640x480 with 1 Axes>"
      ]
     },
     "metadata": {},
     "output_type": "display_data"
    }
   ],
   "source": [
    "plt.plot(losses)\n",
    "plt.xlabel(\"EPOCHS\")\n",
    "plt.ylabel(\"Loss value\")"
   ]
  },
  {
   "cell_type": "code",
   "execution_count": 10,
   "id": "1bc240ca-94f4-4034-aff7-a667b26ee4c2",
   "metadata": {},
   "outputs": [
    {
     "name": "stdout",
     "output_type": "stream",
     "text": [
      "[np.int64(1), np.int64(0)] 1\n",
      "[np.int64(1), np.int64(1)] 0\n",
      "Input  Output\n",
      "[np.int64(0), np.int64(1)] 1\n",
      "[np.int64(0), np.int64(0)] 0\n",
      "Input  Output\n"
     ]
    }
   ],
   "source": [
    "def predict(w1,w2,input):\n",
    "    z1,a1,z2,a2 = forward_prop(w1,w2,test)\n",
    "    a2 = np.squeeze(a2)\n",
    "    if a2>=0.5:\n",
    "        print( [i[0] for i in input], 1)\n",
    "    else:\n",
    "        print( [i[0] for i in input], 0)\n",
    "        print('Input',' Output')\n",
    "test=np.array([[1],[0]])\n",
    "predict(w1,w2,test)\n",
    "test=np.array([[1],[1]])\n",
    "predict(w1,w2,test)\n",
    "test=np.array([[0],[1]])\n",
    "predict(w1,w2,test)\n",
    "test=np.array([[0],[0]])\n",
    "predict(w1,w2,test)"
   ]
  }
 ],
 "metadata": {
  "kernelspec": {
   "display_name": "Python 3 (ipykernel)",
   "language": "python",
   "name": "python3"
  },
  "language_info": {
   "codemirror_mode": {
    "name": "ipython",
    "version": 3
   },
   "file_extension": ".py",
   "mimetype": "text/x-python",
   "name": "python",
   "nbconvert_exporter": "python",
   "pygments_lexer": "ipython3",
   "version": "3.13.5"
  }
 },
 "nbformat": 4,
 "nbformat_minor": 5
}
